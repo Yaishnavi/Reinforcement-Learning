{
 "metadata": {
  "language_info": {
   "codemirror_mode": {
    "name": "ipython",
    "version": 3
   },
   "file_extension": ".py",
   "mimetype": "text/x-python",
   "name": "python",
   "nbconvert_exporter": "python",
   "pygments_lexer": "ipython3",
   "version": "3.6.12-final"
  },
  "orig_nbformat": 2,
  "kernelspec": {
   "name": "python3",
   "display_name": "Python 3.6.12 64-bit ('rl': conda)",
   "metadata": {
    "interpreter": {
     "hash": "accc2f43be2e1f6f04b542269f945672579f4d887acf3251fbd55070909a0f05"
    }
   }
  }
 },
 "nbformat": 4,
 "nbformat_minor": 2,
 "cells": [
  {
   "source": [
    "# 1.2 Shuttle Dispatching Multiclass Problem\n",
    "K = the capacity of a shuttle if it is dispatched  \n",
    "At = a random variable giving the number of customers arriving during the interval t  \n",
    "cf = the cost of dispatching a shuttle  \n",
    "ch = the cost per customer left waiting per time period  \n",
    "  \n",
    "Given, K = 30, cf = 100, ch = {1,1.5,2,2.5,3} and At = unif{1,5}  \n",
    "Assume, maximum number of people at station = 200 and discount rate lambda = 0.95"
   ],
   "cell_type": "markdown",
   "metadata": {}
  },
  {
   "cell_type": "code",
   "execution_count": 1,
   "metadata": {},
   "outputs": [],
   "source": [
    "import numpy as np\n",
    "import matplotlib.pyplot as plt\n",
    "%matplotlib inline"
   ]
  },
  {
   "source": [
    "# a. Enumeration   \n",
    "T=500"
   ],
   "cell_type": "markdown",
   "metadata": {}
  },
  {
   "cell_type": "code",
   "execution_count": 16,
   "metadata": {},
   "outputs": [],
   "source": [
    "\n",
    "cost = [-1 * x for x in [1, 1.5, 2, 2.5, 3]]\n",
    "pickup_a = np.triu(np.array([1]*30).reshape(6,5))\n",
    "p_states = []\n",
    "V_init = []\n",
    "policy = []\n",
    "policy_new = []\n",
    "for p1 in range(101):\n",
    "    for p2 in range(101):\n",
    "        for p3 in range(101):\n",
    "            for p4 in range(101):\n",
    "                for p5 in range(101):\n",
    "                    p_states.append([p1,p2,p3,p4,p5])\n",
    "                    V_init.append(np.zeros(5))\n",
    "                    policy.append(pickup_a[np.random.randint(6)])\n",
    "                    policy_new.append(pickup_a[np.random.randint(6)])\n",
    "n_p = []\n",
    "for n1 in range(1, 6):\n",
    "    for n2 in range(1, 6):\n",
    "        for n3 in range(1, 6):\n",
    "            for n4 in range(1, 6):\n",
    "                for n5 in range(1, 6):\n",
    "                    n_p.append([n1, n2, n3, n4, n5])"
   ]
  },
  {
   "cell_type": "code",
   "execution_count": null,
   "metadata": {},
   "outputs": [],
   "source": [
    "\n",
    "def enumeration(T):\n",
    "Vt = []\n",
    "Vnext = []\n",
    "for _ in range(T, -1, -1):\n",
    "    for p in p_states:\n",
    "        V_out0 = sum(list(map(lambda x: x[0]*x[1], list(zip(cost, p)))))\n",
    "        new = left(p)\n",
    "        V_out1 = -100 + sum(list(map(lambda x: x[0]*x[1], list(zip(cost, new)))))\n",
    "        for new_p in n_p:\n",
    "            total_p = list(map(lambda x: min(100,x[0]+x[1]), list(zip(p, new_p))))\n",
    "            V_out0 +=  1/len(n_p) * .95 * Vnext[total_p]\n",
    "            rest_p = left(total_p)\n",
    "            V_out1 += 1/len(n_p) * .95 * Vnext[rest_p]\n",
    "        Vt[p] = max(V_out0, V_out1)\n",
    "    Vnext = Vt\n",
    "return Vt\n",
    "\n",
    "def left(p, pa = pa):\n",
    "    for i in range(len(pa)):\n",
    "        if sum(pa[i] * p) > 30:\n",
    "            next\n",
    "        else:\n",
    "            ava = pa[i] * p\n",
    "            new = ([1] * 5 - pa[i]) * p\n",
    "            break\n",
    "    if i == 5:\n",
    "        new[i-1] -= 30\n",
    "    elif (30 - sum(ava)) > 0:\n",
    "        new[i-1] = p[i-1] - (30 - sum(ava))\n",
    "    return new"
   ]
  },
  {
   "cell_type": "code",
   "execution_count": null,
   "metadata": {},
   "outputs": [],
   "source": [
    "\n",
    "T = 500\n",
    "V = enumeration(T)\n",
    "\n",
    "plt.figure()\n",
    "plt.plot(V)\n",
    "plt.xlabel('Number of customers waiting at time 0')\n",
    "plt.ylabel('OPtimal Value')\n",
    "plt.title('Enumeration')\n",
    "plt.savefig('2_enumeration.png',bbox_inches='tight',facecolor=\"#FFFFFF\")\n",
    "plt.show()"
   ]
  },
  {
   "source": [
    "# b. Value Iteration  \n",
    "T=infinity"
   ],
   "cell_type": "markdown",
   "metadata": {}
  },
  {
   "cell_type": "code",
   "execution_count": null,
   "metadata": {},
   "outputs": [],
   "source": [
    "def valueIteration(V_init = V_init, threshold = 0.01):\n",
    "    while True: \n",
    "        V_new = V_init.copy()\n",
    "        delta = 0\n",
    "        for p in p_states:\n",
    "            V_out0 = sum(list(map(lambda x: x[0]*x[1], list(zip(cost, p)))))\n",
    "            new = left(p)\n",
    "            V_out1 = -100 + sum(list(map(lambda x: x[0]*x[1], list(zip(cost, new)))))\n",
    "            for new_p in n_p:\n",
    "                total_p = list(map(lambda x: min(100,x[0]+x[1]), list(zip(p, new_p))))\n",
    "                V_out0 +=  1/len(n_p) * .95 * Vt1[total_p]\n",
    "                rest_p = left(total_p)\n",
    "                V_out1 += 1/len(n_p) * .95 * Vt1[rest_p]\n",
    "            V_init[p] = max(V_out0, V_out1)\n",
    "        delta = max(delta, max(abs(V_new-V_init)))\n",
    "        if delta < threshold:\n",
    "            return V_init\n",
    "            break"
   ]
  },
  {
   "cell_type": "code",
   "execution_count": null,
   "metadata": {},
   "outputs": [],
   "source": [
    "V = value_iteration()\n",
    "\n",
    "plt.figure()\n",
    "plt.plot(V)\n",
    "plt.xlabel('Number of customers waiting')\n",
    "plt.ylabel('OPtimal Value')\n",
    "plt.title('Value Iteration')\n",
    "plt.savefig('2_value_iteration.png',bbox_inches='tight',facecolor=\"#FFFFFF\")\n",
    "plt.show()"
   ]
  },
  {
   "source": [
    "# c. Policy Iteration"
   ],
   "cell_type": "markdown",
   "metadata": {}
  },
  {
   "cell_type": "code",
   "execution_count": null,
   "metadata": {},
   "outputs": [],
   "source": [
    "def policyIteration_5(V_guess = V_init, p_guess = policy, p_new = policy_new, threshold = 0.01):\n",
    "    V_init = V_guess\n",
    "    V_new = V_init.copy()\n",
    "    policy = p_guess\n",
    "    policy_new = p_new\n",
    "    delta_init = 100\n",
    "    delta = delta_init\n",
    "    \n",
    "    changed = True\n",
    "    while changed: \n",
    "        while threshold < delta:\n",
    "            V_new = V_init.copy()\n",
    "            for p in p_states:\n",
    "                V_out0 = sum(list(map(lambda x: x[0]*x[1], list(zip(cost, p)))))\n",
    "                new = left(p)\n",
    "                V_out1 = -100 + sum(list(map(lambda x: x[0]*x[1], list(zip(cost, new)))))\n",
    "                for new_p in n_p:\n",
    "                    total_p = list(map(lambda x: min(100,x[0]+x[1]), list(zip(p, new_p))))\n",
    "                    V_out0 +=  1/len(n_p) * .95 * Vt1[total_p]\n",
    "                    rest_p = left(total_p)\n",
    "                    V_out1 += 1/len(n_p) * .95 * Vt1[rest_p]\n",
    "                values = [V_out0, V_out1]\n",
    "                V_init[p] = values[policy[p]]\n",
    "                delta = max(delta, abs(v-V_init[p]))\n",
    "\n",
    "        for p in p_states:\n",
    "            V_out0 = sum(list(map(lambda x: x[0]*x[1], list(zip(cost, p)))))\n",
    "            new = left(p)\n",
    "            V_out1 = -100 + sum(list(map(lambda x: x[0]*x[1], list(zip(cost, new)))))\n",
    "            for new_p in n_p:\n",
    "                total_p = list(map(lambda x: min(100,x[0]+x[1]), list(zip(p, new_p))))\n",
    "                V_out0 +=  1/len(n_p) * .95 * Vt1[total_p]\n",
    "                rest_p = left(total_p)\n",
    "                V_out1 += 1/len(n_p) * .95 * Vt1[rest_p]\n",
    "            values = [V_out0, V_out1]\n",
    "            policy_new[p] = np.argmax(values)\n",
    "\n",
    "        if sum(policy - policy_new) == 0:\n",
    "            changed = False\n",
    "        else:\n",
    "            delta = delta_init\n",
    "            policy = policy_new.copy()\n",
    "            \n",
    "    return policy"
   ]
  },
  {
   "cell_type": "code",
   "execution_count": null,
   "metadata": {},
   "outputs": [],
   "source": [
    "V = policy_iteration()\n",
    "\n",
    "plt.figure()\n",
    "plt.plot(V)\n",
    "plt.xlabel('Number of customers waiting')\n",
    "plt.ylabel('Optimal Policy')\n",
    "plt.title('Policy Iteration')\n",
    "plt.savefig('2_Policy_iteration.png',bbox_inches='tight',facecolor=\"#FFFFFF\")\n",
    "plt.show()"
   ]
  },
  {
   "cell_type": "code",
   "execution_count": null,
   "metadata": {},
   "outputs": [],
   "source": []
  }
 ]
}